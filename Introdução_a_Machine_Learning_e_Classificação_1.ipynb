{
  "nbformat": 4,
  "nbformat_minor": 0,
  "metadata": {
    "colab": {
      "name": "Introdução a Machine Learning e Classificação-1.ipynb",
      "provenance": []
    },
    "kernelspec": {
      "name": "python3",
      "display_name": "Python 3"
    }
  },
  "cells": [
    {
      "cell_type": "code",
      "metadata": {
        "id": "Nn-c5gDkAWuB"
      },
      "source": [
        "#features [1=sim, 0= não]\n",
        "#pêlo longo\n",
        "#perna curta\n",
        "#late\n",
        "\n",
        "porco1 = [0,1,0]\n",
        "porco2 = [0,1,1]\n",
        "porco3 = [1,1,0]\n",
        "\n",
        "cachorro1=[0,1,1]\n",
        "cachorro2=[1,0,1]\n",
        "cachorro3=[1,1,1]\n",
        "\n",
        "train_x = [porco1, porco2, porco3, cachorro1, cachorro2, cachorro3]\n",
        "train_y = [1,1,1,0,0,0]"
      ],
      "execution_count": 5,
      "outputs": []
    },
    {
      "cell_type": "code",
      "metadata": {
        "colab": {
          "base_uri": "https://localhost:8080/"
        },
        "id": "AWliiEmiBcrk",
        "outputId": "d69fc22b-b538-4b22-f73c-7f86eb291946"
      },
      "source": [
        "from sklearn.svm import LinearSVC\n",
        "\n",
        "model = LinearSVC()\n",
        "model.fit(train_x, train_y)\n",
        "\n",
        "misterio1 = [1,1,1]\n",
        "misterio2 = [1,1,0]\n",
        "misterio3 = [0,1,1]\n",
        "\n",
        "test_x = [misterio1, misterio2, misterio3]\n",
        "test_y = [0,1,1]\n",
        "\n",
        "previsoes = model.predict(test_x)\n",
        "\n",
        "corretos = (previsoes == test_y).sum()\n",
        "total = len(test_x)\n",
        "\n",
        "taxa_acerto = corretos / total\n",
        "print(taxa_acerto*100)"
      ],
      "execution_count": 6,
      "outputs": [
        {
          "output_type": "stream",
          "text": [
            "66.66666666666666\n"
          ],
          "name": "stdout"
        }
      ]
    },
    {
      "cell_type": "code",
      "metadata": {
        "colab": {
          "base_uri": "https://localhost:8080/"
        },
        "id": "gBjXeiwJDYQ-",
        "outputId": "b94890b4-5fec-4552-e135-50d815dfd4df"
      },
      "source": [
        "from sklearn.metrics import accuracy_score\n",
        "\n",
        "taxa_acerto = accuracy_score(test_y, previsoes)\n",
        "print(\"taxa de acerto: %.2f\" % (taxa_acerto*100),\"%\")"
      ],
      "execution_count": 10,
      "outputs": [
        {
          "output_type": "stream",
          "text": [
            "taxa de acerto: 66.67 %\n"
          ],
          "name": "stdout"
        }
      ]
    },
    {
      "cell_type": "code",
      "metadata": {
        "id": "zoDE8vCHFcA-"
      },
      "source": [
        ""
      ],
      "execution_count": null,
      "outputs": []
    }
  ]
}