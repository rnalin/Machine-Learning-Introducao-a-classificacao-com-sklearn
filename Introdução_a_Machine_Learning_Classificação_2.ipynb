{
  "nbformat": 4,
  "nbformat_minor": 0,
  "metadata": {
    "colab": {
      "name": "Introdução a Machine Learning Classificação - 2.ipynb",
      "provenance": []
    },
    "kernelspec": {
      "name": "python3",
      "display_name": "Python 3"
    }
  },
  "cells": [
    {
      "cell_type": "code",
      "metadata": {
        "colab": {
          "base_uri": "https://localhost:8080/"
        },
        "id": "tlgkjan_rkpE",
        "outputId": "40125c94-cedd-4802-d8ca-19c128850b89"
      },
      "source": [
        "import pandas as pd\r\n",
        "uri = \"https://gist.githubusercontent.com/guilhermesilveira/2d2efa37d66b6c84a722ea627a897ced/raw/10968b997d885cbded1c92938c7a9912ba41c615/tracking.csv\"\r\n",
        "dados = pd.read_csv(uri)\r\n",
        "dados.head"
      ],
      "execution_count": 3,
      "outputs": [
        {
          "output_type": "execute_result",
          "data": {
            "text/plain": [
              "<bound method NDFrame.head of     home  how_it_works  contact  bought\n",
              "0      1             1        0       0\n",
              "1      1             1        0       0\n",
              "2      1             1        0       0\n",
              "3      1             1        0       0\n",
              "4      1             1        0       0\n",
              "..   ...           ...      ...     ...\n",
              "94     0             0        1       0\n",
              "95     1             1        1       1\n",
              "96     0             0        1       0\n",
              "97     0             1        0       0\n",
              "98     0             0        0       0\n",
              "\n",
              "[99 rows x 4 columns]>"
            ]
          },
          "metadata": {
            "tags": []
          },
          "execution_count": 3
        }
      ]
    },
    {
      "cell_type": "code",
      "metadata": {
        "colab": {
          "base_uri": "https://localhost:8080/"
        },
        "id": "CdrvrUi5r46B",
        "outputId": "bacd300f-a850-486d-de2b-ac865605bd2c"
      },
      "source": [
        "x = dados[[\"home\", \"how_it_works\",\"contact\"]]\r\n",
        "y= dados[\"bought\"]\r\n",
        "y.head()\r\n"
      ],
      "execution_count": 6,
      "outputs": [
        {
          "output_type": "execute_result",
          "data": {
            "text/plain": [
              "0    0\n",
              "1    0\n",
              "2    0\n",
              "3    0\n",
              "4    0\n",
              "Name: bought, dtype: int64"
            ]
          },
          "metadata": {
            "tags": []
          },
          "execution_count": 6
        }
      ]
    },
    {
      "cell_type": "code",
      "metadata": {
        "colab": {
          "base_uri": "https://localhost:8080/"
        },
        "id": "aolpeNXfskMg",
        "outputId": "2fc88faa-55c3-46c7-9a9b-696700441d1a"
      },
      "source": [
        "dados.shape"
      ],
      "execution_count": 7,
      "outputs": [
        {
          "output_type": "execute_result",
          "data": {
            "text/plain": [
              "(99, 4)"
            ]
          },
          "metadata": {
            "tags": []
          },
          "execution_count": 7
        }
      ]
    },
    {
      "cell_type": "code",
      "metadata": {
        "colab": {
          "base_uri": "https://localhost:8080/"
        },
        "id": "EBaw4heOs8if",
        "outputId": "8370eb6a-33cf-47c0-979c-a3ba24da2229"
      },
      "source": [
        "treino_x = x[:75]\r\n",
        "treino_y = y[:75]\r\n",
        "teste_x = x[75:]\r\n",
        "teste_y = y[75:]\r\n",
        "teste_y.shape\r\n",
        "\r\n"
      ],
      "execution_count": 11,
      "outputs": [
        {
          "output_type": "execute_result",
          "data": {
            "text/plain": [
              "(24,)"
            ]
          },
          "metadata": {
            "tags": []
          },
          "execution_count": 11
        }
      ]
    },
    {
      "cell_type": "code",
      "metadata": {
        "colab": {
          "base_uri": "https://localhost:8080/"
        },
        "id": "JBByzoCztOMu",
        "outputId": "9633f3dd-e138-4d0f-c5e3-65eabf472955"
      },
      "source": [
        "from sklearn.svm import LinearSVC\r\n",
        "from sklearn.metrics import accuracy_score\r\n",
        "\r\n",
        "modelo = LinearSVC()\r\n",
        "modelo.fit(treino_x, treino_y)\r\n",
        "previsoes = modelo.predict(teste_x)\r\n",
        "\r\n",
        "acuracia = accuracy_score(teste_y, previsoes) * 100\r\n",
        "print(\"A acurácia foi de: %.2f\" % acuracia, \"%\")\r\n"
      ],
      "execution_count": 21,
      "outputs": [
        {
          "output_type": "stream",
          "text": [
            "A acurácia foi de: 95.83 %\n"
          ],
          "name": "stdout"
        }
      ]
    },
    {
      "cell_type": "markdown",
      "metadata": {
        "id": "nQcjVg3TvCZD"
      },
      "source": [
        "**Usando a biblioteca para separar treino e teste**"
      ]
    },
    {
      "cell_type": "code",
      "metadata": {
        "colab": {
          "base_uri": "https://localhost:8080/"
        },
        "id": "FFmaccSMuMll",
        "outputId": "e99ff683-81aa-4fbe-d973-f72dc5c96078"
      },
      "source": [
        "from sklearn.model_selection import train_test_split\r\n",
        "from sklearn.metrics import accuracy_score\r\n",
        "\r\n",
        "SEED = 20\r\n",
        "treino_x, teste_x, treino_y, teste_y = train_test_split(x, y, random_state=SEED, test_size = 0.25, stratify = y)\r\n",
        "\r\n",
        "modelo = LinearSVC()\r\n",
        "modelo.fit(treino_x, treino_y)\r\n",
        "previsoes = modelo.predict(teste_x)\r\n",
        "\r\n",
        "acuracia = accuracy_score(teste_y, previsoes) * 100\r\n",
        "print(\"A acurácia foi de: %.2f\" % acuracia, \"%\")"
      ],
      "execution_count": 37,
      "outputs": [
        {
          "output_type": "stream",
          "text": [
            "A acurácia foi de: 96.00 %\n"
          ],
          "name": "stdout"
        }
      ]
    },
    {
      "cell_type": "code",
      "metadata": {
        "colab": {
          "base_uri": "https://localhost:8080/"
        },
        "id": "sKwjhOvZvn29",
        "outputId": "7cba71a6-5292-4b5e-b3ac-17846ad4fd6c"
      },
      "source": [
        "teste_y.value_counts()"
      ],
      "execution_count": 38,
      "outputs": [
        {
          "output_type": "execute_result",
          "data": {
            "text/plain": [
              "0    17\n",
              "1     8\n",
              "Name: bought, dtype: int64"
            ]
          },
          "metadata": {
            "tags": []
          },
          "execution_count": 38
        }
      ]
    },
    {
      "cell_type": "code",
      "metadata": {
        "colab": {
          "base_uri": "https://localhost:8080/"
        },
        "id": "Hju8pHHLv1wP",
        "outputId": "8b7b70bb-1897-4348-ca41-3e54a4a7e80d"
      },
      "source": [
        "treino_y.value_counts()"
      ],
      "execution_count": 39,
      "outputs": [
        {
          "output_type": "execute_result",
          "data": {
            "text/plain": [
              "0    49\n",
              "1    25\n",
              "Name: bought, dtype: int64"
            ]
          },
          "metadata": {
            "tags": []
          },
          "execution_count": 39
        }
      ]
    },
    {
      "cell_type": "code",
      "metadata": {
        "id": "DbsMc65Tv4gF"
      },
      "source": [
        ""
      ],
      "execution_count": null,
      "outputs": []
    }
  ]
}